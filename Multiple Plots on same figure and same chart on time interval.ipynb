{
 "cells": [
  {
   "cell_type": "code",
   "execution_count": 1,
   "metadata": {},
   "outputs": [],
   "source": [
    "import pandas as pd\n",
    "import matplotlib.pyplot as plt\n",
    "import numpy as np\n",
    "hsNData1 = pd.read_csv(r'E:\\Dhaval\\Elastic Search\\Python\\E-Book\\Data File\\highstoragesystem-data-for-energy-optimization\\HRSS_normal_optimized.csv')"
   ]
  },
  {
   "cell_type": "code",
   "execution_count": 2,
   "metadata": {},
   "outputs": [],
   "source": [
    "#def clean_strings(strings):\n",
    "result = []\n",
    "cnt = 0\n",
    "for index, value in enumerate(hsNData1['Timestamp']):\n",
    "    if index == 0:\n",
    "        result.append(cnt)\n",
    "    elif index == len(hsNData1['Timestamp'])-1:\n",
    "        result.append(cnt)\n",
    "    elif hsNData1['Timestamp'][index] - hsNData1['Timestamp'][index - 1] < 0:        \n",
    "        result.append(cnt+1)\n",
    "        cnt += 1\n",
    "    else:\n",
    "        result.append(cnt)\n",
    "hsNData1['sampleNum'] = result"
   ]
  },
  {
   "cell_type": "code",
   "execution_count": 3,
   "metadata": {},
   "outputs": [],
   "source": [
    "def getDataofSample(Alldata, sampleNo = 0):\n",
    "    Sampledata = Alldata.loc[Alldata['sampleNum'] == sampleNo]\n",
    "    indexs = np.arange(len(Sampledata))\n",
    "    Sampledata.index = indexs\n",
    "    return Sampledata"
   ]
  },
  {
   "cell_type": "code",
   "execution_count": 18,
   "metadata": {},
   "outputs": [],
   "source": [
    "def createOperationColumn(data,column,operation):\n",
    "    import math\n",
    "    sumval = 0\n",
    "    differnce = []\n",
    "    summ = []\n",
    "    logg = []\n",
    "    #operation = 'L'\n",
    "    #column = 'O_w_HR_power'\n",
    "    #data\n",
    "    try:\n",
    "        for index, value in enumerate(data[column]):    \n",
    "            if index == 0:\n",
    "                if operation == 'D':\n",
    "                    differnce.append(0)\n",
    "                elif operation == 'S':\n",
    "                    summ.append(0)\n",
    "                else:\n",
    "                    logg.append(math.log(data[column][index]))\n",
    "            else:\n",
    "                if operation == 'D':\n",
    "                    differnce.append(data[column][index] - data[column][index - 1])\n",
    "                elif operation == 'S':\n",
    "                    sumval = data[column][index] + sumval\n",
    "                    summ.append(sumval)\n",
    "                else:\n",
    "                    logg.append(math.log(data[column][index]))\n",
    "        if operation == 'D':\n",
    "            data['D'] = differnce\n",
    "        elif operation == 'S':\n",
    "            data['S'] = summ\n",
    "        else:\n",
    "            data['L'] = logg\n",
    "        return data\n",
    "    except:\n",
    "        print('Natural log not possible values less than or equal to 0')"
   ]
  },
  {
   "cell_type": "code",
   "execution_count": 19,
   "metadata": {},
   "outputs": [],
   "source": [
    "import time\n",
    "import pylab as pl\n",
    "from IPython import display\n",
    "#columns = ['I_w_BLO_Weg', 'O_w_BLO_power', 'O_w_BLO_voltage']\n",
    "#samples = [1,2,3]\n",
    "#operation = 'S'\n",
    "z = 1\n",
    "def CreateTimeSeriesChart(columns = [],samples = [], operation = 'N'):    \n",
    "    if len(samples) == 0:\n",
    "        samples = set(hsNData1['sampleNum'])\n",
    "        samples.remove(len(samples)-1)\n",
    "    if len(columns) == 0:\n",
    "        columns = hsNData1.columns\n",
    "    for column in columns:\n",
    "        for sampleNo in samples:                \n",
    "            data = getDataofSample(hsNData1,sampleNo)\n",
    "            if column == 'Timestamp' or column == 'Labels' or column == 'sampleNum':\n",
    "                z == z\n",
    "            else:                                    \n",
    "                pl.clf()\n",
    "                if operation == 'N':\n",
    "                    pl.plot(data['Timestamp'],data[column])\n",
    "                    pl.title('Attribute : ' + column + '    Sample No : ' + str(sampleNo))\n",
    "                else:\n",
    "                    data2 = createOperationColumn(data,column,operation)\n",
    "                    pl.plot(data2['Timestamp'],data2[operation])\n",
    "                    if operation == 'L':\n",
    "                        pl.title('Attribute : Log of ' + column + '    Sample No : ' + str(sampleNo))\n",
    "                    elif operation == 'D':\n",
    "                        pl.title('Attribute : Difference of ' + column + '    Sample No : ' + str(sampleNo))\n",
    "                    else:\n",
    "                        pl.title('Attribute : Sum of ' + column + '    Sample No : ' + str(sampleNo))\n",
    "                pl.gcf().show()\n",
    "                display.display(pl.gcf())\n",
    "                display.clear_output(wait=True)\n",
    "                time.sleep(1.0)                      "
   ]
  },
  {
   "cell_type": "code",
   "execution_count": 20,
   "metadata": {},
   "outputs": [
    {
     "data": {
      "image/png": "[encoded data removed]",
      "text/plain": [
       "<Figure size 432x288 with 1 Axes>"
      ]
     },
     "metadata": {},
     "output_type": "display_data"
    }
   ],
   "source": [
    "columns = ['O_w_BLO_voltage']\n",
    "samples = [3]\n",
    "sampleNo = 1\n",
    "try:\n",
    "    CreateTimeSeriesChart(columns,samples)#, 'S')\n",
    "except:\n",
    "    print('Please check data')"
   ]
  },
  {
   "cell_type": "code",
   "execution_count": 21,
   "metadata": {},
   "outputs": [
    {
     "data": {
      "image/png": "[encoded data removed]",
      "text/plain": [
       "<Figure size 432x288 with 1 Axes>"
      ]
     },
     "metadata": {},
     "output_type": "display_data"
    }
   ],
   "source": [
    "CreateTimeSeriesChart(columns,samples, 'S')"
   ]
  },
  {
   "cell_type": "code",
   "execution_count": null,
   "metadata": {},
   "outputs": [],
   "source": []
  }
 ],
 "metadata": {
  "kernelspec": {
   "display_name": "Python 3",
   "language": "python",
   "name": "python3"
  },
  "language_info": {
   "codemirror_mode": {
    "name": "ipython",
    "version": 3
   },
   "file_extension": ".py",
   "mimetype": "text/x-python",
   "name": "python",
   "nbconvert_exporter": "python",
   "pygments_lexer": "ipython3",
   "version": "3.6.5"
  }
 },
 "nbformat": 4,
 "nbformat_minor": 2
}
