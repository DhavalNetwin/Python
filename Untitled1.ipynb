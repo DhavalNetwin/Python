{
 "cells": [
  {
   "cell_type": "code",
   "execution_count": 12,
   "metadata": {},
   "outputs": [
    {
     "name": "stdout",
     "output_type": "stream",
     "text": [
      "          AAAA      BBBB      CCCC      DDDD\n",
      "AAAA  1.000000  0.215924  0.117770  0.097165\n",
      "BBBB  0.215924  1.000000 -0.039181  0.007339\n",
      "CCCC  0.117770 -0.039181  1.000000 -0.069335\n",
      "DDDD  0.097165  0.007339 -0.069335  1.000000\n"
     ]
    },
    {
     "data": {
      "image/png": "[encoded data removed]",
      "text/plain": [
       "<Figure size 432x288 with 2 Axes>"
      ]
     },
     "metadata": {},
     "output_type": "display_data"
    }
   ],
   "source": [
    "import numpy as np; np.random.seed(1)\n",
    "import pandas as pd\n",
    "import seaborn.apionly as sns\n",
    "import matplotlib.pyplot as plt\n",
    "\n",
    "# Generate a random dataset\n",
    "cols = [s*4 for s in list(\"ABCD\")]\n",
    "cols\n",
    "df = pd.DataFrame(data=np.random.rayleigh(scale=5, size=(100, 4)), columns=cols)\n",
    "df\n",
    " #Compute the correlation matrix\n",
    "corr = df.corr()\n",
    "print(corr)\n",
    " #Generate a mask for the upper triangle\n",
    "mask = np.zeros_like(corr, dtype=np.bool)\n",
    "mask[np.triu_indices_from(mask)] = True\n",
    "\n",
    "# Set up the matplotlib figure\n",
    "fig, ax = plt.subplots()\n",
    "\n",
    "# Draw the heatmap with the mask and correct aspect ratio\n",
    "vmax = np.abs(corr.values[~mask]).max()\n",
    "sns.heatmap(corr, mask=mask, cmap=plt.cm.PuOr, vmin=-vmax, vmax=vmax,\n",
    "            square=True, linecolor=\"lightgray\", linewidths=1, ax=ax)\n",
    "for i in range(len(corr)):\n",
    "    ax.text(i+0.5,len(corr)-(i+0.5), corr.columns[i], \n",
    "            ha=\"center\", va=\"center\", rotation=45)\n",
    "    for j in range(i+1, len(corr)):\n",
    "        s = \"{:.3f}\".format(corr.values[i,j])\n",
    "        ax.text(j+0.5,len(corr)-(i+0.5),s, \n",
    "            ha=\"center\", va=\"center\")\n",
    "ax.axis(\"off\")\n",
    "plt.show()"
   ]
  },
  {
   "cell_type": "code",
   "execution_count": null,
   "metadata": {},
   "outputs": [],
   "source": []
  }
 ],
 "metadata": {
  "kernelspec": {
   "display_name": "Python 3",
   "language": "python",
   "name": "python3"
  },
  "language_info": {
   "codemirror_mode": {
    "name": "ipython",
    "version": 3
   },
   "file_extension": ".py",
   "mimetype": "text/x-python",
   "name": "python",
   "nbconvert_exporter": "python",
   "pygments_lexer": "ipython3",
   "version": "3.6.5"
  }
 },
 "nbformat": 4,
 "nbformat_minor": 2
}
