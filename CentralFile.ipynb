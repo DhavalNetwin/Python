{
 "cells": [
  {
   "cell_type": "code",
   "execution_count": 6,
   "metadata": {},
   "outputs": [],
   "source": [
    "import Parsing"
   ]
  },
  {
   "cell_type": "code",
   "execution_count": 1,
   "metadata": {},
   "outputs": [],
   "source": [
    "import sys"
   ]
  },
  {
   "cell_type": "code",
   "execution_count": 3,
   "metadata": {},
   "outputs": [],
   "source": [
    "sys.path.insert(0,'C:\\\\Users\\\\Snehal.Waman\\\\Desktop\\\\Python Code\\\\Parsing')"
   ]
  },
  {
   "cell_type": "code",
   "execution_count": 9,
   "metadata": {},
   "outputs": [
    {
     "data": {
      "text/plain": [
       "['C:\\\\Users\\\\Snehal.Waman\\\\Desktop\\\\Python Code\\\\Parsing',\n",
       " '',\n",
       " 'C:\\\\Users\\\\Snehal.Waman\\\\Desktop\\\\Python Code',\n",
       " 'C:\\\\Users\\\\Snehal.Waman\\\\Desktop\\\\Python Code\\\\Load Libraries',\n",
       " 'C:\\\\Users\\\\Snehal.Waman\\\\python\\\\Anaconda3\\\\python36.zip',\n",
       " 'C:\\\\Users\\\\Snehal.Waman\\\\python\\\\Anaconda3\\\\DLLs',\n",
       " 'C:\\\\Users\\\\Snehal.Waman\\\\python\\\\Anaconda3\\\\lib',\n",
       " 'C:\\\\Users\\\\Snehal.Waman\\\\python\\\\Anaconda3',\n",
       " 'C:\\\\Users\\\\Snehal.Waman\\\\python\\\\Anaconda3\\\\lib\\\\site-packages',\n",
       " 'C:\\\\Users\\\\Snehal.Waman\\\\python\\\\Anaconda3\\\\lib\\\\site-packages\\\\win32',\n",
       " 'C:\\\\Users\\\\Snehal.Waman\\\\python\\\\Anaconda3\\\\lib\\\\site-packages\\\\win32\\\\lib',\n",
       " 'C:\\\\Users\\\\Snehal.Waman\\\\python\\\\Anaconda3\\\\lib\\\\site-packages\\\\Pythonwin',\n",
       " 'C:\\\\Users\\\\Snehal.Waman\\\\python\\\\Anaconda3\\\\lib\\\\site-packages\\\\IPython\\\\extensions',\n",
       " 'C:\\\\Users\\\\Snehal.Waman\\\\.ipython']"
      ]
     },
     "execution_count": 9,
     "metadata": {},
     "output_type": "execute_result"
    }
   ],
   "source": [
    "sys.path"
   ]
  },
  {
   "cell_type": "code",
   "execution_count": 8,
   "metadata": {},
   "outputs": [
    {
     "ename": "AttributeError",
     "evalue": "module 'Parsing' has no attribute 'ReadCSVData'",
     "output_type": "error",
     "traceback": [
      "\u001b[1;31m---------------------------------------------------------------------------\u001b[0m",
      "\u001b[1;31mAttributeError\u001b[0m                            Traceback (most recent call last)",
      "\u001b[1;32m<ipython-input-8-0385c913dceb>\u001b[0m in \u001b[0;36m<module>\u001b[1;34m()\u001b[0m\n\u001b[1;32m----> 1\u001b[1;33m \u001b[0mParsing\u001b[0m\u001b[1;33m.\u001b[0m\u001b[0mReadCSVData\u001b[0m\u001b[1;33m(\u001b[0m\u001b[1;34m'dfsadfds'\u001b[0m\u001b[1;33m)\u001b[0m\u001b[1;33m\u001b[0m\u001b[0m\n\u001b[0m",
      "\u001b[1;31mAttributeError\u001b[0m: module 'Parsing' has no attribute 'ReadCSVData'"
     ]
    }
   ],
   "source": [
    "#Parsing.LoadData.ReadCSVData('dfsadfds')"
   ]
  },
  {
   "cell_type": "code",
   "execution_count": 11,
   "metadata": {},
   "outputs": [
    {
     "ename": "ModuleNotFoundError",
     "evalue": "No module named 'LoadData'",
     "output_type": "error",
     "traceback": [
      "\u001b[1;31m---------------------------------------------------------------------------\u001b[0m",
      "\u001b[1;31mModuleNotFoundError\u001b[0m                       Traceback (most recent call last)",
      "\u001b[1;32m<ipython-input-11-9bc27fd1e631>\u001b[0m in \u001b[0;36m<module>\u001b[1;34m()\u001b[0m\n\u001b[1;32m----> 1\u001b[1;33m \u001b[1;32mimport\u001b[0m \u001b[0mLoadData\u001b[0m\u001b[1;33m\u001b[0m\u001b[0m\n\u001b[0m",
      "\u001b[1;31mModuleNotFoundError\u001b[0m: No module named 'LoadData'"
     ]
    }
   ],
   "source": [
    "import LoadData"
   ]
  },
  {
   "cell_type": "code",
   "execution_count": null,
   "metadata": {},
   "outputs": [],
   "source": []
  }
 ],
 "metadata": {
  "kernelspec": {
   "display_name": "Python 3",
   "language": "python",
   "name": "python3"
  },
  "language_info": {
   "codemirror_mode": {
    "name": "ipython",
    "version": 3
   },
   "file_extension": ".py",
   "mimetype": "text/x-python",
   "name": "python",
   "nbconvert_exporter": "python",
   "pygments_lexer": "ipython3",
   "version": "3.6.5"
  }
 },
 "nbformat": 4,
 "nbformat_minor": 2
}
