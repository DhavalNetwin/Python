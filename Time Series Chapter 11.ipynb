{
 "cells": [
  {
   "cell_type": "code",
   "execution_count": 1,
   "metadata": {},
   "outputs": [],
   "source": [
    "from datetime import datetime"
   ]
  },
  {
   "cell_type": "code",
   "execution_count": 3,
   "metadata": {},
   "outputs": [],
   "source": [
    "from datetime import timedelta"
   ]
  },
  {
   "cell_type": "code",
   "execution_count": 10,
   "metadata": {},
   "outputs": [],
   "source": [
    "start = datetime(2018,10,10)"
   ]
  },
  {
   "cell_type": "code",
   "execution_count": 5,
   "metadata": {},
   "outputs": [
    {
     "data": {
      "text/plain": [
       "datetime.datetime(2018, 10, 22, 0, 0)"
      ]
     },
     "execution_count": 5,
     "metadata": {},
     "output_type": "execute_result"
    }
   ],
   "source": [
    "start + timedelta(12)"
   ]
  },
  {
   "cell_type": "code",
   "execution_count": 11,
   "metadata": {},
   "outputs": [
    {
     "data": {
      "text/plain": [
       "datetime.datetime(2018, 9, 16, 0, 0)"
      ]
     },
     "execution_count": 11,
     "metadata": {},
     "output_type": "execute_result"
    }
   ],
   "source": [
    "start - 2 * timedelta(12)"
   ]
  },
  {
   "cell_type": "code",
   "execution_count": 12,
   "metadata": {},
   "outputs": [
    {
     "data": {
      "text/plain": [
       "datetime.datetime(2018, 10, 10, 0, 0)"
      ]
     },
     "execution_count": 12,
     "metadata": {},
     "output_type": "execute_result"
    }
   ],
   "source": [
    "start"
   ]
  },
  {
   "cell_type": "code",
   "execution_count": 13,
   "metadata": {},
   "outputs": [],
   "source": [
    "value = '2011-01-03'"
   ]
  },
  {
   "cell_type": "code",
   "execution_count": 14,
   "metadata": {},
   "outputs": [
    {
     "data": {
      "text/plain": [
       "datetime.datetime(2011, 1, 3, 0, 0)"
      ]
     },
     "execution_count": 14,
     "metadata": {},
     "output_type": "execute_result"
    }
   ],
   "source": [
    "datetime.strptime(value, '%Y-%m-%d')"
   ]
  },
  {
   "cell_type": "code",
   "execution_count": 15,
   "metadata": {},
   "outputs": [],
   "source": [
    "datestrs = ['7/6/2011', '8/6/2011']"
   ]
  },
  {
   "cell_type": "code",
   "execution_count": 16,
   "metadata": {},
   "outputs": [
    {
     "data": {
      "text/plain": [
       "[datetime.datetime(2011, 7, 6, 0, 0), datetime.datetime(2011, 8, 6, 0, 0)]"
      ]
     },
     "execution_count": 16,
     "metadata": {},
     "output_type": "execute_result"
    }
   ],
   "source": [
    "[datetime.strptime(x, '%m/%d/%Y') for x in datestrs]"
   ]
  },
  {
   "cell_type": "code",
   "execution_count": 19,
   "metadata": {},
   "outputs": [],
   "source": [
    "import pandas as pd\n",
    "import numpy as np"
   ]
  },
  {
   "cell_type": "code",
   "execution_count": 21,
   "metadata": {},
   "outputs": [],
   "source": [
    "dates = [datetime(2011, 1, 2), datetime(2011, 1, 5),\n",
    "datetime(2011, 1, 7), datetime(2011, 1, 8),\n",
    "datetime(2011, 1, 10), datetime(2011, 1, 12)]\n",
    "ts = pd.Series(np.random.randn(6), index=dates)"
   ]
  },
  {
   "cell_type": "code",
   "execution_count": 22,
   "metadata": {},
   "outputs": [
    {
     "data": {
      "text/plain": [
       "2011-01-02    0.340103\n",
       "2011-01-05    0.401767\n",
       "2011-01-07    0.049951\n",
       "2011-01-08    0.846430\n",
       "2011-01-10    0.731589\n",
       "2011-01-12   -0.616385\n",
       "dtype: float64"
      ]
     },
     "execution_count": 22,
     "metadata": {},
     "output_type": "execute_result"
    }
   ],
   "source": [
    "ts"
   ]
  },
  {
   "cell_type": "code",
   "execution_count": 25,
   "metadata": {},
   "outputs": [
    {
     "data": {
      "text/plain": [
       "2011-01-02    0.680205\n",
       "2011-01-05         NaN\n",
       "2011-01-07    0.099902\n",
       "2011-01-08         NaN\n",
       "2011-01-10    1.463177\n",
       "2011-01-12         NaN\n",
       "dtype: float64"
      ]
     },
     "execution_count": 25,
     "metadata": {},
     "output_type": "execute_result"
    }
   ],
   "source": [
    "ts + ts[::2]"
   ]
  },
  {
   "cell_type": "code",
   "execution_count": 27,
   "metadata": {},
   "outputs": [
    {
     "data": {
      "text/plain": [
       "2011-01-02    0.340103\n",
       "2011-01-07    0.049951\n",
       "2011-01-10    0.731589\n",
       "dtype: float64"
      ]
     },
     "execution_count": 27,
     "metadata": {},
     "output_type": "execute_result"
    }
   ],
   "source": [
    "ts[::2]"
   ]
  },
  {
   "cell_type": "code",
   "execution_count": 28,
   "metadata": {},
   "outputs": [
    {
     "data": {
      "text/plain": [
       "Timestamp('2011-01-07 00:00:00')"
      ]
     },
     "execution_count": 28,
     "metadata": {},
     "output_type": "execute_result"
    }
   ],
   "source": [
    "ts.index[2]"
   ]
  },
  {
   "cell_type": "code",
   "execution_count": 29,
   "metadata": {},
   "outputs": [
    {
     "data": {
      "text/plain": [
       "0.04995101483745264"
      ]
     },
     "execution_count": 29,
     "metadata": {},
     "output_type": "execute_result"
    }
   ],
   "source": [
    "ts[ts.index[2]]"
   ]
  },
  {
   "cell_type": "code",
   "execution_count": 30,
   "metadata": {},
   "outputs": [],
   "source": [
    "longer_ts = pd.Series(np.random.randn(1000),\n",
    "index=pd.date_range('1/1/2000', periods=1000))"
   ]
  },
  {
   "cell_type": "code",
   "execution_count": 31,
   "metadata": {},
   "outputs": [
    {
     "data": {
      "text/plain": [
       "2000-01-01   -1.623429\n",
       "2000-01-02    0.152329\n",
       "2000-01-03   -0.300929\n",
       "2000-01-04    0.649633\n",
       "2000-01-05    0.381286\n",
       "2000-01-06    2.757400\n",
       "2000-01-07    1.848595\n",
       "2000-01-08    3.292024\n",
       "2000-01-09    0.903076\n",
       "2000-01-10   -0.358339\n",
       "2000-01-11    0.762545\n",
       "2000-01-12    0.143984\n",
       "2000-01-13   -2.321448\n",
       "2000-01-14   -1.157004\n",
       "2000-01-15    0.234426\n",
       "2000-01-16   -0.792989\n",
       "2000-01-17    1.838467\n",
       "2000-01-18    1.004395\n",
       "2000-01-19   -0.119491\n",
       "2000-01-20   -1.440462\n",
       "2000-01-21    0.766729\n",
       "2000-01-22   -0.721510\n",
       "2000-01-23    1.848655\n",
       "2000-01-24   -1.238416\n",
       "2000-01-25   -0.755862\n",
       "2000-01-26   -0.418887\n",
       "2000-01-27    0.443892\n",
       "2000-01-28   -0.269247\n",
       "2000-01-29    0.956491\n",
       "2000-01-30    0.353852\n",
       "                ...   \n",
       "2002-08-28   -0.204677\n",
       "2002-08-29   -0.494202\n",
       "2002-08-30   -1.981955\n",
       "2002-08-31   -0.294790\n",
       "2002-09-01   -0.470487\n",
       "2002-09-02    1.373031\n",
       "2002-09-03    1.040411\n",
       "2002-09-04    1.048275\n",
       "2002-09-05   -0.938588\n",
       "2002-09-06   -0.903132\n",
       "2002-09-07    0.808571\n",
       "2002-09-08   -0.275554\n",
       "2002-09-09   -0.541663\n",
       "2002-09-10    1.424973\n",
       "2002-09-11   -0.349336\n",
       "2002-09-12    0.029949\n",
       "2002-09-13    0.454137\n",
       "2002-09-14    0.882445\n",
       "2002-09-15   -1.829080\n",
       "2002-09-16    1.399181\n",
       "2002-09-17    0.248291\n",
       "2002-09-18   -1.046042\n",
       "2002-09-19   -0.786232\n",
       "2002-09-20   -0.574912\n",
       "2002-09-21    2.059586\n",
       "2002-09-22   -0.363665\n",
       "2002-09-23    1.160927\n",
       "2002-09-24    1.651334\n",
       "2002-09-25    0.706535\n",
       "2002-09-26   -0.368863\n",
       "Freq: D, Length: 1000, dtype: float64"
      ]
     },
     "execution_count": 31,
     "metadata": {},
     "output_type": "execute_result"
    }
   ],
   "source": [
    "longer_ts"
   ]
  },
  {
   "cell_type": "code",
   "execution_count": 32,
   "metadata": {},
   "outputs": [],
   "source": [
    "longer_ts = pd.Series(np.random.randn(10),\n",
    "index=pd.date_range('1/1/2000', periods=10))"
   ]
  },
  {
   "cell_type": "code",
   "execution_count": 33,
   "metadata": {},
   "outputs": [
    {
     "data": {
      "text/plain": [
       "2000-01-01   -0.539374\n",
       "2000-01-02    1.457661\n",
       "2000-01-03   -1.101808\n",
       "2000-01-04   -0.327968\n",
       "2000-01-05   -0.178803\n",
       "2000-01-06   -0.624574\n",
       "2000-01-07    0.336731\n",
       "2000-01-08   -0.107082\n",
       "2000-01-09   -1.634117\n",
       "2000-01-10   -0.857620\n",
       "Freq: D, dtype: float64"
      ]
     },
     "execution_count": 33,
     "metadata": {},
     "output_type": "execute_result"
    }
   ],
   "source": [
    "longer_ts"
   ]
  },
  {
   "cell_type": "code",
   "execution_count": null,
   "metadata": {},
   "outputs": [],
   "source": []
  }
 ],
 "metadata": {
  "kernelspec": {
   "display_name": "Python 3",
   "language": "python",
   "name": "python3"
  },
  "language_info": {
   "codemirror_mode": {
    "name": "ipython",
    "version": 3
   },
   "file_extension": ".py",
   "mimetype": "text/x-python",
   "name": "python",
   "nbconvert_exporter": "python",
   "pygments_lexer": "ipython3",
   "version": "3.6.5"
  }
 },
 "nbformat": 4,
 "nbformat_minor": 2
}
