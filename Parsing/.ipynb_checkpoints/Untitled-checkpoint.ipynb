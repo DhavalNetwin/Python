{
 "cells": [
  {
   "cell_type": "code",
   "execution_count": 33,
   "metadata": {},
   "outputs": [],
   "source": [
    "sys.path.append(\"C:\\\\Users\\\\Snehal.Waman\\\\Desktop\\\\Python Code\\\\LoadLibrary\")"
   ]
  },
  {
   "cell_type": "code",
   "execution_count": 34,
   "metadata": {},
   "outputs": [
    {
     "data": {
      "text/plain": [
       "['C:\\\\Users\\\\Snehal.Waman\\\\Desktop\\\\Python Code',\n",
       " '',\n",
       " 'C:\\\\Users\\\\Snehal.Waman\\\\Desktop\\\\Python Code',\n",
       " 'C:\\\\Users\\\\Snehal.Waman\\\\Desktop\\\\Python Code\\\\Load Libraries',\n",
       " 'C:\\\\Users\\\\Snehal.Waman\\\\Desktop\\\\Python Code\\\\Parsing',\n",
       " 'C:\\\\Users\\\\Snehal.Waman\\\\python\\\\Anaconda3\\\\python36.zip',\n",
       " 'C:\\\\Users\\\\Snehal.Waman\\\\python\\\\Anaconda3\\\\DLLs',\n",
       " 'C:\\\\Users\\\\Snehal.Waman\\\\python\\\\Anaconda3\\\\lib',\n",
       " 'C:\\\\Users\\\\Snehal.Waman\\\\python\\\\Anaconda3',\n",
       " 'C:\\\\Users\\\\Snehal.Waman\\\\python\\\\Anaconda3\\\\lib\\\\site-packages',\n",
       " 'C:\\\\Users\\\\Snehal.Waman\\\\python\\\\Anaconda3\\\\lib\\\\site-packages\\\\win32',\n",
       " 'C:\\\\Users\\\\Snehal.Waman\\\\python\\\\Anaconda3\\\\lib\\\\site-packages\\\\win32\\\\lib',\n",
       " 'C:\\\\Users\\\\Snehal.Waman\\\\python\\\\Anaconda3\\\\lib\\\\site-packages\\\\Pythonwin',\n",
       " 'C:\\\\Users\\\\Snehal.Waman\\\\python\\\\Anaconda3\\\\lib\\\\site-packages\\\\IPython\\\\extensions',\n",
       " 'C:\\\\Users\\\\Snehal.Waman\\\\.ipython',\n",
       " 'C:\\\\Users\\\\Snehal.Waman\\\\Desktop\\\\Python Code\\\\Load Libraries',\n",
       " 'C:\\\\Users\\\\Snehal.Waman\\\\Desktop\\\\Python Code\\\\LoadLibrary']"
      ]
     },
     "execution_count": 34,
     "metadata": {},
     "output_type": "execute_result"
    }
   ],
   "source": [
    "sys.path"
   ]
  },
  {
   "cell_type": "code",
   "execution_count": 40,
   "metadata": {},
   "outputs": [
    {
     "ename": "ModuleNotFoundError",
     "evalue": "No module named 'libraries'",
     "output_type": "error",
     "traceback": [
      "\u001b[1;31m---------------------------------------------------------------------------\u001b[0m",
      "\u001b[1;31mModuleNotFoundError\u001b[0m                       Traceback (most recent call last)",
      "\u001b[1;32m<ipython-input-40-4b94292b4290>\u001b[0m in \u001b[0;36m<module>\u001b[1;34m()\u001b[0m\n\u001b[1;32m----> 1\u001b[1;33m \u001b[1;32mfrom\u001b[0m \u001b[0mlibraries\u001b[0m \u001b[1;32mimport\u001b[0m \u001b[0mimport_initials\u001b[0m\u001b[1;33m\u001b[0m\u001b[0m\n\u001b[0m",
      "\u001b[1;31mModuleNotFoundError\u001b[0m: No module named 'libraries'"
     ]
    }
   ],
   "source": [
    "from libraries import import_initials"
   ]
  },
  {
   "cell_type": "code",
   "execution_count": 25,
   "metadata": {},
   "outputs": [
    {
     "ename": "NameError",
     "evalue": "name 'import_intials' is not defined",
     "output_type": "error",
     "traceback": [
      "\u001b[1;31m---------------------------------------------------------------------------\u001b[0m",
      "\u001b[1;31mNameError\u001b[0m                                 Traceback (most recent call last)",
      "\u001b[1;32m<ipython-input-25-c4aaf691bc26>\u001b[0m in \u001b[0;36m<module>\u001b[1;34m()\u001b[0m\n\u001b[1;32m----> 1\u001b[1;33m \u001b[0mimport_intials\u001b[0m\u001b[1;33m(\u001b[0m\u001b[1;33m)\u001b[0m\u001b[1;33m\u001b[0m\u001b[0m\n\u001b[0m",
      "\u001b[1;31mNameError\u001b[0m: name 'import_intials' is not defined"
     ]
    }
   ],
   "source": [
    "import_intials()"
   ]
  },
  {
   "cell_type": "code",
   "execution_count": 17,
   "metadata": {},
   "outputs": [
    {
     "ename": "SyntaxError",
     "evalue": "invalid syntax (<ipython-input-17-1e5274c08326>, line 1)",
     "output_type": "error",
     "traceback": [
      "\u001b[1;36m  File \u001b[1;32m\"<ipython-input-17-1e5274c08326>\"\u001b[1;36m, line \u001b[1;32m1\u001b[0m\n\u001b[1;33m    from r'C:\\\\Users\\\\Snehal.Waman\\\\Desktop\\\\Python Code\\\\Load Libraries' import libraries\u001b[0m\n\u001b[1;37m                                                                        ^\u001b[0m\n\u001b[1;31mSyntaxError\u001b[0m\u001b[1;31m:\u001b[0m invalid syntax\n"
     ]
    }
   ],
   "source": [
    "from r'C:\\\\Users\\\\Snehal.Waman\\\\Desktop\\\\Python Code\\\\Load Libraries' import libraries"
   ]
  },
  {
   "cell_type": "code",
   "execution_count": null,
   "metadata": {},
   "outputs": [],
   "source": []
  }
 ],
 "metadata": {
  "kernelspec": {
   "display_name": "Python 3",
   "language": "python",
   "name": "python3"
  },
  "language_info": {
   "codemirror_mode": {
    "name": "ipython",
    "version": 3
   },
   "file_extension": ".py",
   "mimetype": "text/x-python",
   "name": "python",
   "nbconvert_exporter": "python",
   "pygments_lexer": "ipython3",
   "version": "3.6.5"
  }
 },
 "nbformat": 4,
 "nbformat_minor": 2
}
