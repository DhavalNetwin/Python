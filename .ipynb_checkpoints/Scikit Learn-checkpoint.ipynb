{
 "cells": [
  {
   "cell_type": "code",
   "execution_count": 1,
   "metadata": {},
   "outputs": [],
   "source": [
    "import pandas as pd\n",
    "import numpy as np\n",
    "import datetime as datetime\n",
    "import matplotlib.pyplot as plt\n",
    "hsNData1 = pd.read_csv(r'E:\\Dhaval\\Elastic Search\\Python\\E-Book\\Data File\\highstoragesystem-data-for-energy-optimization\\HRSS_normal_optimized.csv')\n",
    "#def clean_strings(strings):\n",
    "result = []\n",
    "cnt = 0\n",
    "for index, value in enumerate(hsNData1['Timestamp']):\n",
    "    if index == 0:\n",
    "        result.append(cnt)\n",
    "    elif index == len(hsNData1['Timestamp'])-1:\n",
    "        result.append(cnt)\n",
    "    elif hsNData1['Timestamp'][index] - hsNData1['Timestamp'][index - 1] < 0:\n",
    "        cnt += 1\n",
    "        result.append(cnt+1)\n",
    "    else:\n",
    "        result.append(cnt)\n",
    "#return \n",
    "result\n",
    "hsNData1['sampleNum'] = result\n",
    "data = hsNData1.loc[hsNData1['sampleNum'] == 1]"
   ]
  },
  {
   "cell_type": "code",
   "execution_count": 2,
   "metadata": {},
   "outputs": [],
   "source": [
    "from sklearn.preprocessing import MinMaxScaler\n",
    "scaler = MinMaxScaler()"
   ]
  },
  {
   "cell_type": "code",
   "execution_count": 3,
   "metadata": {},
   "outputs": [],
   "source": [
    "transformData = scaler.fit_transform(data)"
   ]
  },
  {
   "cell_type": "code",
   "execution_count": 7,
   "metadata": {},
   "outputs": [
    {
     "data": {
      "text/plain": [
       "192"
      ]
     },
     "execution_count": 7,
     "metadata": {},
     "output_type": "execute_result"
    }
   ],
   "source": [
    "#en(transformData)\n",
    "len(data['Timestamp'])"
   ]
  },
  {
   "cell_type": "code",
   "execution_count": 9,
   "metadata": {},
   "outputs": [
    {
     "name": "stderr",
     "output_type": "stream",
     "text": [
      "C:\\Users\\Snehal.Waman\\python\\Anaconda3\\lib\\site-packages\\ipykernel_launcher.py:1: SettingWithCopyWarning: \n",
      "A value is trying to be set on a copy of a slice from a DataFrame.\n",
      "Try using .loc[row_indexer,col_indexer] = value instead\n",
      "\n",
      "See the caveats in the documentation: http://pandas.pydata.org/pandas-docs/stable/indexing.html#indexing-view-versus-copy\n",
      "  \"\"\"Entry point for launching an IPython kernel.\n"
     ]
    }
   ],
   "source": [
    "data['transformData'] = transformData.tolist()"
   ]
  },
  {
   "cell_type": "code",
   "execution_count": 19,
   "metadata": {},
   "outputs": [
    {
     "data": {
      "text/plain": [
       "[0.0,\n",
       " 0.0,\n",
       " 0.19561551433389546,\n",
       " 0.0,\n",
       " 0.0,\n",
       " 0.11897679952409279,\n",
       " 0.0,\n",
       " 0.0,\n",
       " 0.18802160039273447,\n",
       " 0.0,\n",
       " 0.0,\n",
       " 0.4790575916230366,\n",
       " 0.2912262156448203,\n",
       " 0.6428571428571428,\n",
       " 0.9999999999999999,\n",
       " 0.19011191386881993,\n",
       " 0.07114624505928853,\n",
       " 0.9999999999999999,\n",
       " 0.0045038167938931395,\n",
       " 0.04048582995951417,\n",
       " 0.0]"
      ]
     },
     "execution_count": 19,
     "metadata": {},
     "output_type": "execute_result"
    }
   ],
   "source": [
    "data['transformData'][192]\n",
    "#data[\"transformData\"].str.split(\",\", n = 1, expand = True) "
   ]
  },
  {
   "cell_type": "code",
   "execution_count": null,
   "metadata": {},
   "outputs": [],
   "source": []
  }
 ],
 "metadata": {
  "kernelspec": {
   "display_name": "Python 3",
   "language": "python",
   "name": "python3"
  },
  "language_info": {
   "codemirror_mode": {
    "name": "ipython",
    "version": 3
   },
   "file_extension": ".py",
   "mimetype": "text/x-python",
   "name": "python",
   "nbconvert_exporter": "python",
   "pygments_lexer": "ipython3",
   "version": "3.6.5"
  }
 },
 "nbformat": 4,
 "nbformat_minor": 2
}
