{
 "cells": [
  {
   "cell_type": "code",
   "execution_count": 1,
   "metadata": {},
   "outputs": [
    {
     "name": "stdout",
     "output_type": "stream",
     "text": [
      "10\n"
     ]
    }
   ],
   "source": [
    "total = 0\n",
    "j = 1\n",
    "while j < 5:\n",
    "    total += j\n",
    "    j += 1\n",
    "print(total)"
   ]
  },
  {
   "cell_type": "code",
   "execution_count": 7,
   "metadata": {},
   "outputs": [
    {
     "name": "stdout",
     "output_type": "stream",
     "text": [
      "17\n"
     ]
    }
   ],
   "source": [
    "lst = [5,4,4,3,1,-2,-3,-5]\n",
    "total1 = 0\n",
    "i = 0\n",
    "while i < len(lst) and lst[i] > 0:\n",
    "    total1 += lst[i]\n",
    "    i += 1\n",
    "print(total1)"
   ]
  },
  {
   "cell_type": "code",
   "execution_count": 9,
   "metadata": {},
   "outputs": [
    {
     "name": "stdout",
     "output_type": "stream",
     "text": [
      "17\n"
     ]
    }
   ],
   "source": [
    "lst1 = [5,4,4,3,1,-2,-3,-5]\n",
    "total2 = 0\n",
    "for k in lst1:\n",
    "    if k <= 0:\n",
    "        break\n",
    "    total2 += k\n",
    "print(total2)"
   ]
  },
  {
   "cell_type": "code",
   "execution_count": 12,
   "metadata": {},
   "outputs": [
    {
     "name": "stdout",
     "output_type": "stream",
     "text": [
      "17\n"
     ]
    }
   ],
   "source": [
    "lst2 = [5,4,4,3,1,-2,-3,-5]\n",
    "total3 = 0\n",
    "l = 0\n",
    "while True:\n",
    "    total3 += lst2[l]\n",
    "    l += 1\n",
    "    if lst2[l] <= 0:\n",
    "        break\n",
    "print(total3)"
   ]
  },
  {
   "cell_type": "code",
   "execution_count": 23,
   "metadata": {},
   "outputs": [
    {
     "name": "stdout",
     "output_type": "stream",
     "text": [
      "-10\n"
     ]
    }
   ],
   "source": [
    "lst2 = [5,4,4,3,1,-2,-3,-5]\n",
    "total4 = 0\n",
    "m = 0\n",
    "while True:\n",
    "    #print(lst2[m])\n",
    "    if lst2[m] > 0:\n",
    "        m += 1\n",
    "    else:\n",
    "        total4 += lst2[m]\n",
    "        m += 1\n",
    "    if m >= len(lst2):\n",
    "        break\n",
    "print(total4)"
   ]
  },
  {
   "cell_type": "code",
   "execution_count": null,
   "metadata": {},
   "outputs": [],
   "source": []
  }
 ],
 "metadata": {
  "kernelspec": {
   "display_name": "Python 3",
   "language": "python",
   "name": "python3"
  },
  "language_info": {
   "codemirror_mode": {
    "name": "ipython",
    "version": 3
   },
   "file_extension": ".py",
   "mimetype": "text/x-python",
   "name": "python",
   "nbconvert_exporter": "python",
   "pygments_lexer": "ipython3",
   "version": "3.6.5"
  }
 },
 "nbformat": 4,
 "nbformat_minor": 2
}
